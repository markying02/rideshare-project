{
 "cells": [
  {
   "cell_type": "code",
   "execution_count": 109,
   "metadata": {},
   "outputs": [],
   "source": [
    "from amplpy import AMPL\n",
    "import pandas as pd"
   ]
  },
  {
   "cell_type": "code",
   "execution_count": 110,
   "metadata": {},
   "outputs": [],
   "source": [
    "rideshares = pd.read_csv('./rideshare_tg22.csv')\n",
    "airports = ['LAX', 'ONT', 'SNA', 'BUR']\n",
    "car_types = ['UberX', 'UberXL']"
   ]
  },
  {
   "cell_type": "code",
   "execution_count": 111,
   "metadata": {},
   "outputs": [],
   "source": [
    "ez_rideshares = rideshares#[rideshares['Departure Date'] == '5/11/24']\n",
    "ez_rideshares.rename(columns={'Departure Time (Pacific Daylight Time)': 'Flight depart'}, inplace=True)"
   ]
  },
  {
   "cell_type": "code",
   "execution_count": 112,
   "metadata": {},
   "outputs": [],
   "source": [
    "cost_data = {\n",
    "    ('LAX', 'UberX'): 86, ('LAX', 'UberXL'): 125,\n",
    "    ('ONT', 'UberX'): 42, ('ONT', 'UberXL'): 80,\n",
    "    ('SNA', 'UberX'): 75, ('SNA', 'UberXL'): 130,\n",
    "    ('BUR', 'UberX'): 105, ('BUR', 'UberXL'): 150\n",
    "}"
   ]
  },
  {
   "cell_type": "code",
   "execution_count": 113,
   "metadata": {},
   "outputs": [],
   "source": [
    "capacity_data = {\n",
    "    'UberX': 4,\n",
    "    'UberXL': 6\n",
    "}"
   ]
  },
  {
   "cell_type": "code",
   "execution_count": 114,
   "metadata": {},
   "outputs": [],
   "source": [
    "travel_time_data = {\n",
    "    'LAX': 1.5,\n",
    "    'ONT': 0.5,\n",
    "    'SNA': 1.5,\n",
    "    'BUR': 1.5\n",
    "}"
   ]
  },
  {
   "cell_type": "code",
   "execution_count": 115,
   "metadata": {},
   "outputs": [
    {
     "name": "stdout",
     "output_type": "stream",
     "text": [
      "{('LAX', 'UberX', 0.5): 86.0, ('LAX', 'UberX', 1.0): 87.72, ('LAX', 'UberX', 1.5): 87.72, ('LAX', 'UberX', 2.0): 88.58, ('LAX', 'UberX', 2.5): 88.58, ('LAX', 'UberX', 3.0): 85.14, ('LAX', 'UberX', 3.5): 89.44, ('LAX', 'UberX', 4.0): 88.58, ('LAX', 'UberX', 4.5): 88.58, ('LAX', 'UberX', 5.0): 92.88, ('LAX', 'UberX', 5.5): 92.88, ('LAX', 'UberX', 6.0): 98.04, ('LAX', 'UberX', 6.5): 98.04, ('LAX', 'UberX', 7.0): 102.34, ('LAX', 'UberX', 7.5): 102.34, ('LAX', 'UberX', 8.0): 103.2, ('LAX', 'UberX', 8.5): 103.2, ('LAX', 'UberX', 9.0): 111.8, ('LAX', 'UberX', 9.5): 98.04, ('LAX', 'UberX', 10.0): 94.6, ('LAX', 'UberX', 10.5): 97.18, ('LAX', 'UberX', 11.0): 96.32, ('LAX', 'UberX', 11.5): 98.9, ('LAX', 'UberX', 12.0): 100.62, ('LAX', 'UberX', 12.5): 99.76, ('LAX', 'UberX', 13.0): 100.62, ('LAX', 'UberX', 13.5): 100.62, ('LAX', 'UberX', 14.0): 103.2, ('LAX', 'UberX', 14.5): 103.2, ('LAX', 'UberX', 15.0): 102.34, ('LAX', 'UberX', 15.5): 105.78, ('LAX', 'UberX', 16.0): 104.92, ('LAX', 'UberX', 16.5): 108.36, ('LAX', 'UberX', 17.0): 106.64, ('LAX', 'UberX', 17.5): 109.22, ('LAX', 'UberX', 18.0): 107.5, ('LAX', 'UberX', 18.5): 107.5, ('LAX', 'UberX', 19.0): 101.48, ('LAX', 'UberX', 19.5): 101.48, ('LAX', 'UberX', 20.0): 102.34, ('LAX', 'UberX', 20.5): 102.34, ('LAX', 'UberX', 21.0): 100.62, ('LAX', 'UberX', 21.5): 92.88, ('LAX', 'UberX', 22.0): 96.32, ('LAX', 'UberX', 22.5): 96.32, ('LAX', 'UberX', 23.0): 92.02, ('LAX', 'UberX', 23.5): 92.02, ('LAX', 'UberX', 24.0): 86.0, ('LAX', 'UberXL', 0.5): 125.0, ('LAX', 'UberXL', 1.0): 127.5, ('LAX', 'UberXL', 1.5): 127.5, ('LAX', 'UberXL', 2.0): 128.75, ('LAX', 'UberXL', 2.5): 128.75, ('LAX', 'UberXL', 3.0): 123.75, ('LAX', 'UberXL', 3.5): 130.0, ('LAX', 'UberXL', 4.0): 128.75, ('LAX', 'UberXL', 4.5): 128.75, ('LAX', 'UberXL', 5.0): 135.0, ('LAX', 'UberXL', 5.5): 135.0, ('LAX', 'UberXL', 6.0): 142.5, ('LAX', 'UberXL', 6.5): 142.5, ('LAX', 'UberXL', 7.0): 148.75, ('LAX', 'UberXL', 7.5): 148.75, ('LAX', 'UberXL', 8.0): 150.0, ('LAX', 'UberXL', 8.5): 150.0, ('LAX', 'UberXL', 9.0): 162.5, ('LAX', 'UberXL', 9.5): 142.5, ('LAX', 'UberXL', 10.0): 137.5, ('LAX', 'UberXL', 10.5): 141.25, ('LAX', 'UberXL', 11.0): 140.0, ('LAX', 'UberXL', 11.5): 143.75, ('LAX', 'UberXL', 12.0): 146.25, ('LAX', 'UberXL', 12.5): 145.0, ('LAX', 'UberXL', 13.0): 146.25, ('LAX', 'UberXL', 13.5): 146.25, ('LAX', 'UberXL', 14.0): 150.0, ('LAX', 'UberXL', 14.5): 150.0, ('LAX', 'UberXL', 15.0): 148.75, ('LAX', 'UberXL', 15.5): 153.75, ('LAX', 'UberXL', 16.0): 152.5, ('LAX', 'UberXL', 16.5): 157.5, ('LAX', 'UberXL', 17.0): 155.0, ('LAX', 'UberXL', 17.5): 158.75, ('LAX', 'UberXL', 18.0): 156.25, ('LAX', 'UberXL', 18.5): 156.25, ('LAX', 'UberXL', 19.0): 147.5, ('LAX', 'UberXL', 19.5): 147.5, ('LAX', 'UberXL', 20.0): 148.75, ('LAX', 'UberXL', 20.5): 148.75, ('LAX', 'UberXL', 21.0): 146.25, ('LAX', 'UberXL', 21.5): 135.0, ('LAX', 'UberXL', 22.0): 140.0, ('LAX', 'UberXL', 22.5): 140.0, ('LAX', 'UberXL', 23.0): 133.75, ('LAX', 'UberXL', 23.5): 133.75, ('LAX', 'UberXL', 24.0): 125.0, ('ONT', 'UberX', 0.5): 42.0, ('ONT', 'UberX', 1.0): 42.84, ('ONT', 'UberX', 1.5): 42.84, ('ONT', 'UberX', 2.0): 43.26, ('ONT', 'UberX', 2.5): 43.26, ('ONT', 'UberX', 3.0): 41.58, ('ONT', 'UberX', 3.5): 43.68, ('ONT', 'UberX', 4.0): 43.26, ('ONT', 'UberX', 4.5): 43.26, ('ONT', 'UberX', 5.0): 45.36, ('ONT', 'UberX', 5.5): 45.36, ('ONT', 'UberX', 6.0): 47.88, ('ONT', 'UberX', 6.5): 47.88, ('ONT', 'UberX', 7.0): 49.98, ('ONT', 'UberX', 7.5): 49.98, ('ONT', 'UberX', 8.0): 50.4, ('ONT', 'UberX', 8.5): 50.4, ('ONT', 'UberX', 9.0): 54.6, ('ONT', 'UberX', 9.5): 47.88, ('ONT', 'UberX', 10.0): 46.2, ('ONT', 'UberX', 10.5): 47.46, ('ONT', 'UberX', 11.0): 47.04, ('ONT', 'UberX', 11.5): 48.3, ('ONT', 'UberX', 12.0): 49.14, ('ONT', 'UberX', 12.5): 48.72, ('ONT', 'UberX', 13.0): 49.14, ('ONT', 'UberX', 13.5): 49.14, ('ONT', 'UberX', 14.0): 50.4, ('ONT', 'UberX', 14.5): 50.4, ('ONT', 'UberX', 15.0): 49.98, ('ONT', 'UberX', 15.5): 51.66, ('ONT', 'UberX', 16.0): 51.24, ('ONT', 'UberX', 16.5): 52.92, ('ONT', 'UberX', 17.0): 52.08, ('ONT', 'UberX', 17.5): 53.34, ('ONT', 'UberX', 18.0): 52.5, ('ONT', 'UberX', 18.5): 52.5, ('ONT', 'UberX', 19.0): 49.56, ('ONT', 'UberX', 19.5): 49.56, ('ONT', 'UberX', 20.0): 49.98, ('ONT', 'UberX', 20.5): 49.98, ('ONT', 'UberX', 21.0): 49.14, ('ONT', 'UberX', 21.5): 45.36, ('ONT', 'UberX', 22.0): 47.04, ('ONT', 'UberX', 22.5): 47.04, ('ONT', 'UberX', 23.0): 44.94, ('ONT', 'UberX', 23.5): 44.94, ('ONT', 'UberX', 24.0): 42.0, ('ONT', 'UberXL', 0.5): 80.0, ('ONT', 'UberXL', 1.0): 81.6, ('ONT', 'UberXL', 1.5): 81.6, ('ONT', 'UberXL', 2.0): 82.4, ('ONT', 'UberXL', 2.5): 82.4, ('ONT', 'UberXL', 3.0): 79.2, ('ONT', 'UberXL', 3.5): 83.2, ('ONT', 'UberXL', 4.0): 82.4, ('ONT', 'UberXL', 4.5): 82.4, ('ONT', 'UberXL', 5.0): 86.4, ('ONT', 'UberXL', 5.5): 86.4, ('ONT', 'UberXL', 6.0): 91.2, ('ONT', 'UberXL', 6.5): 91.2, ('ONT', 'UberXL', 7.0): 95.2, ('ONT', 'UberXL', 7.5): 95.2, ('ONT', 'UberXL', 8.0): 96.0, ('ONT', 'UberXL', 8.5): 96.0, ('ONT', 'UberXL', 9.0): 104.0, ('ONT', 'UberXL', 9.5): 91.2, ('ONT', 'UberXL', 10.0): 88.0, ('ONT', 'UberXL', 10.5): 90.4, ('ONT', 'UberXL', 11.0): 89.6, ('ONT', 'UberXL', 11.5): 92.0, ('ONT', 'UberXL', 12.0): 93.6, ('ONT', 'UberXL', 12.5): 92.8, ('ONT', 'UberXL', 13.0): 93.6, ('ONT', 'UberXL', 13.5): 93.6, ('ONT', 'UberXL', 14.0): 96.0, ('ONT', 'UberXL', 14.5): 96.0, ('ONT', 'UberXL', 15.0): 95.2, ('ONT', 'UberXL', 15.5): 98.4, ('ONT', 'UberXL', 16.0): 97.6, ('ONT', 'UberXL', 16.5): 100.8, ('ONT', 'UberXL', 17.0): 99.2, ('ONT', 'UberXL', 17.5): 101.6, ('ONT', 'UberXL', 18.0): 100.0, ('ONT', 'UberXL', 18.5): 100.0, ('ONT', 'UberXL', 19.0): 94.4, ('ONT', 'UberXL', 19.5): 94.4, ('ONT', 'UberXL', 20.0): 95.2, ('ONT', 'UberXL', 20.5): 95.2, ('ONT', 'UberXL', 21.0): 93.6, ('ONT', 'UberXL', 21.5): 86.4, ('ONT', 'UberXL', 22.0): 89.6, ('ONT', 'UberXL', 22.5): 89.6, ('ONT', 'UberXL', 23.0): 85.6, ('ONT', 'UberXL', 23.5): 85.6, ('ONT', 'UberXL', 24.0): 80.0, ('SNA', 'UberX', 0.5): 75.0, ('SNA', 'UberX', 1.0): 76.5, ('SNA', 'UberX', 1.5): 76.5, ('SNA', 'UberX', 2.0): 77.25, ('SNA', 'UberX', 2.5): 77.25, ('SNA', 'UberX', 3.0): 74.25, ('SNA', 'UberX', 3.5): 78.0, ('SNA', 'UberX', 4.0): 77.25, ('SNA', 'UberX', 4.5): 77.25, ('SNA', 'UberX', 5.0): 81.0, ('SNA', 'UberX', 5.5): 81.0, ('SNA', 'UberX', 6.0): 85.5, ('SNA', 'UberX', 6.5): 85.5, ('SNA', 'UberX', 7.0): 89.25, ('SNA', 'UberX', 7.5): 89.25, ('SNA', 'UberX', 8.0): 90.0, ('SNA', 'UberX', 8.5): 90.0, ('SNA', 'UberX', 9.0): 97.5, ('SNA', 'UberX', 9.5): 85.5, ('SNA', 'UberX', 10.0): 82.5, ('SNA', 'UberX', 10.5): 84.75, ('SNA', 'UberX', 11.0): 84.0, ('SNA', 'UberX', 11.5): 86.25, ('SNA', 'UberX', 12.0): 87.75, ('SNA', 'UberX', 12.5): 87.0, ('SNA', 'UberX', 13.0): 87.75, ('SNA', 'UberX', 13.5): 87.75, ('SNA', 'UberX', 14.0): 90.0, ('SNA', 'UberX', 14.5): 90.0, ('SNA', 'UberX', 15.0): 89.25, ('SNA', 'UberX', 15.5): 92.25, ('SNA', 'UberX', 16.0): 91.5, ('SNA', 'UberX', 16.5): 94.5, ('SNA', 'UberX', 17.0): 93.0, ('SNA', 'UberX', 17.5): 95.25, ('SNA', 'UberX', 18.0): 93.75, ('SNA', 'UberX', 18.5): 93.75, ('SNA', 'UberX', 19.0): 88.5, ('SNA', 'UberX', 19.5): 88.5, ('SNA', 'UberX', 20.0): 89.25, ('SNA', 'UberX', 20.5): 89.25, ('SNA', 'UberX', 21.0): 87.75, ('SNA', 'UberX', 21.5): 81.0, ('SNA', 'UberX', 22.0): 84.0, ('SNA', 'UberX', 22.5): 84.0, ('SNA', 'UberX', 23.0): 80.25, ('SNA', 'UberX', 23.5): 80.25, ('SNA', 'UberX', 24.0): 75.0, ('SNA', 'UberXL', 0.5): 130.0, ('SNA', 'UberXL', 1.0): 132.6, ('SNA', 'UberXL', 1.5): 132.6, ('SNA', 'UberXL', 2.0): 133.9, ('SNA', 'UberXL', 2.5): 133.9, ('SNA', 'UberXL', 3.0): 128.7, ('SNA', 'UberXL', 3.5): 135.2, ('SNA', 'UberXL', 4.0): 133.9, ('SNA', 'UberXL', 4.5): 133.9, ('SNA', 'UberXL', 5.0): 140.4, ('SNA', 'UberXL', 5.5): 140.4, ('SNA', 'UberXL', 6.0): 148.2, ('SNA', 'UberXL', 6.5): 148.2, ('SNA', 'UberXL', 7.0): 154.7, ('SNA', 'UberXL', 7.5): 154.7, ('SNA', 'UberXL', 8.0): 156.0, ('SNA', 'UberXL', 8.5): 156.0, ('SNA', 'UberXL', 9.0): 169.0, ('SNA', 'UberXL', 9.5): 148.2, ('SNA', 'UberXL', 10.0): 143.0, ('SNA', 'UberXL', 10.5): 146.9, ('SNA', 'UberXL', 11.0): 145.6, ('SNA', 'UberXL', 11.5): 149.5, ('SNA', 'UberXL', 12.0): 152.1, ('SNA', 'UberXL', 12.5): 150.8, ('SNA', 'UberXL', 13.0): 152.1, ('SNA', 'UberXL', 13.5): 152.1, ('SNA', 'UberXL', 14.0): 156.0, ('SNA', 'UberXL', 14.5): 156.0, ('SNA', 'UberXL', 15.0): 154.7, ('SNA', 'UberXL', 15.5): 159.9, ('SNA', 'UberXL', 16.0): 158.6, ('SNA', 'UberXL', 16.5): 163.8, ('SNA', 'UberXL', 17.0): 161.2, ('SNA', 'UberXL', 17.5): 165.1, ('SNA', 'UberXL', 18.0): 162.5, ('SNA', 'UberXL', 18.5): 162.5, ('SNA', 'UberXL', 19.0): 153.4, ('SNA', 'UberXL', 19.5): 153.4, ('SNA', 'UberXL', 20.0): 154.7, ('SNA', 'UberXL', 20.5): 154.7, ('SNA', 'UberXL', 21.0): 152.1, ('SNA', 'UberXL', 21.5): 140.4, ('SNA', 'UberXL', 22.0): 145.6, ('SNA', 'UberXL', 22.5): 145.6, ('SNA', 'UberXL', 23.0): 139.1, ('SNA', 'UberXL', 23.5): 139.1, ('SNA', 'UberXL', 24.0): 130.0, ('BUR', 'UberX', 0.5): 105.0, ('BUR', 'UberX', 1.0): 107.1, ('BUR', 'UberX', 1.5): 107.1, ('BUR', 'UberX', 2.0): 108.15, ('BUR', 'UberX', 2.5): 108.15, ('BUR', 'UberX', 3.0): 103.95, ('BUR', 'UberX', 3.5): 109.2, ('BUR', 'UberX', 4.0): 108.15, ('BUR', 'UberX', 4.5): 108.15, ('BUR', 'UberX', 5.0): 113.4, ('BUR', 'UberX', 5.5): 113.4, ('BUR', 'UberX', 6.0): 119.7, ('BUR', 'UberX', 6.5): 119.7, ('BUR', 'UberX', 7.0): 124.95, ('BUR', 'UberX', 7.5): 124.95, ('BUR', 'UberX', 8.0): 126.0, ('BUR', 'UberX', 8.5): 126.0, ('BUR', 'UberX', 9.0): 136.5, ('BUR', 'UberX', 9.5): 119.7, ('BUR', 'UberX', 10.0): 115.5, ('BUR', 'UberX', 10.5): 118.65, ('BUR', 'UberX', 11.0): 117.6, ('BUR', 'UberX', 11.5): 120.75, ('BUR', 'UberX', 12.0): 122.85, ('BUR', 'UberX', 12.5): 121.8, ('BUR', 'UberX', 13.0): 122.85, ('BUR', 'UberX', 13.5): 122.85, ('BUR', 'UberX', 14.0): 126.0, ('BUR', 'UberX', 14.5): 126.0, ('BUR', 'UberX', 15.0): 124.95, ('BUR', 'UberX', 15.5): 129.15, ('BUR', 'UberX', 16.0): 128.1, ('BUR', 'UberX', 16.5): 132.3, ('BUR', 'UberX', 17.0): 130.2, ('BUR', 'UberX', 17.5): 133.35, ('BUR', 'UberX', 18.0): 131.25, ('BUR', 'UberX', 18.5): 131.25, ('BUR', 'UberX', 19.0): 123.9, ('BUR', 'UberX', 19.5): 123.9, ('BUR', 'UberX', 20.0): 124.95, ('BUR', 'UberX', 20.5): 124.95, ('BUR', 'UberX', 21.0): 122.85, ('BUR', 'UberX', 21.5): 113.4, ('BUR', 'UberX', 22.0): 117.6, ('BUR', 'UberX', 22.5): 117.6, ('BUR', 'UberX', 23.0): 112.35, ('BUR', 'UberX', 23.5): 112.35, ('BUR', 'UberX', 24.0): 105.0, ('BUR', 'UberXL', 0.5): 150.0, ('BUR', 'UberXL', 1.0): 153.0, ('BUR', 'UberXL', 1.5): 153.0, ('BUR', 'UberXL', 2.0): 154.5, ('BUR', 'UberXL', 2.5): 154.5, ('BUR', 'UberXL', 3.0): 148.5, ('BUR', 'UberXL', 3.5): 156.0, ('BUR', 'UberXL', 4.0): 154.5, ('BUR', 'UberXL', 4.5): 154.5, ('BUR', 'UberXL', 5.0): 162.0, ('BUR', 'UberXL', 5.5): 162.0, ('BUR', 'UberXL', 6.0): 171.0, ('BUR', 'UberXL', 6.5): 171.0, ('BUR', 'UberXL', 7.0): 178.5, ('BUR', 'UberXL', 7.5): 178.5, ('BUR', 'UberXL', 8.0): 180.0, ('BUR', 'UberXL', 8.5): 180.0, ('BUR', 'UberXL', 9.0): 195.0, ('BUR', 'UberXL', 9.5): 171.0, ('BUR', 'UberXL', 10.0): 165.0, ('BUR', 'UberXL', 10.5): 169.5, ('BUR', 'UberXL', 11.0): 168.0, ('BUR', 'UberXL', 11.5): 172.5, ('BUR', 'UberXL', 12.0): 175.5, ('BUR', 'UberXL', 12.5): 174.0, ('BUR', 'UberXL', 13.0): 175.5, ('BUR', 'UberXL', 13.5): 175.5, ('BUR', 'UberXL', 14.0): 180.0, ('BUR', 'UberXL', 14.5): 180.0, ('BUR', 'UberXL', 15.0): 178.5, ('BUR', 'UberXL', 15.5): 184.5, ('BUR', 'UberXL', 16.0): 183.0, ('BUR', 'UberXL', 16.5): 189.0, ('BUR', 'UberXL', 17.0): 186.0, ('BUR', 'UberXL', 17.5): 190.5, ('BUR', 'UberXL', 18.0): 187.5, ('BUR', 'UberXL', 18.5): 187.5, ('BUR', 'UberXL', 19.0): 177.0, ('BUR', 'UberXL', 19.5): 177.0, ('BUR', 'UberXL', 20.0): 178.5, ('BUR', 'UberXL', 20.5): 178.5, ('BUR', 'UberXL', 21.0): 175.5, ('BUR', 'UberXL', 21.5): 162.0, ('BUR', 'UberXL', 22.0): 168.0, ('BUR', 'UberXL', 22.5): 168.0, ('BUR', 'UberXL', 23.0): 160.5, ('BUR', 'UberXL', 23.5): 160.5, ('BUR', 'UberXL', 24.0): 150.0}\n"
     ]
    }
   ],
   "source": [
    "pricing_multiplier = [1.00, 1.02, 1.02, 1.03, 1.03, 0.99, 1.04, 1.03, 1.03, 1.08, 1.08, 1.14, 1.14, 1.19, 1.19, 1.20, 1.20, 1.30, 1.14, 1.10, 1.13, 1.12, 1.15, 1.17, 1.16, 1.17, 1.17, 1.20, 1.20, 1.19, 1.23, 1.22, 1.26, 1.24, 1.27, 1.25, 1.25, 1.18, 1.18, 1.19, 1.19, 1.17, 1.08, 1.12, 1.12, 1.07, 1.07, 1.00 ]\n",
    "\n",
    "# Initialize time-indexed cost data with correct time keys\n",
    "time_indexed_cost_data = {}\n",
    "\n",
    "# Populate cost data for each time period\n",
    "for (origin, service), base_cost in cost_data.items():\n",
    "    for t, multiplier in enumerate(pricing_multiplier, start=1):\n",
    "        # Convert time index to match P (e.g., 0.5, 1.0, 1.5, ...)\n",
    "        time_key = t * 0.5\n",
    "        time_indexed_cost_data[(origin, service, time_key)] = round(base_cost * multiplier, 2)\n",
    "\n",
    "# Example output\n",
    "print(time_indexed_cost_data)\n"
   ]
  },
  {
   "cell_type": "code",
   "execution_count": 116,
   "metadata": {},
   "outputs": [],
   "source": [
    "ez_rideshares['Flight depart'] = pd.to_datetime(ez_rideshares['Flight depart'], format='%H:%M')\n",
    "ez_rideshares['Flight times'] = ez_rideshares['Flight depart'].dt.hour + 0.5 * (ez_rideshares['Flight depart'].dt.minute//30)"
   ]
  },
  {
   "cell_type": "code",
   "execution_count": 117,
   "metadata": {},
   "outputs": [],
   "source": [
    "ampl = AMPL()\n",
    "ampl.eval(r\"\"\"\n",
    "    set A;\n",
    "    set S;\n",
    "    set P = 0.5..24 by 0.5;  # time of arrival to airport\n",
    "    set C;\n",
    "\n",
    "    param cost{A, C, P};\n",
    "    param capacity{C};\n",
    "    param travelTime{A};\n",
    "    param flightTime{S, A};\n",
    "\n",
    "    var numCars{A, P, C} >= 0 integer;  # x\n",
    "    var leaving{A, S, P} binary;  # 1 if student s leaves for airport a at time p, else 0\n",
    "    var departureTime{A, S};\n",
    "\n",
    "    minimize objective: sum{a in A, p in P, c in C} numCars[a, p, c]*cost[a, c, p];\n",
    "\n",
    "    subject to notTooLateConstraint{a in A, s in S, p in P}:\n",
    "        p - leaving[a, s, p]*(flightTime[s, a] - 2 - travelTime[a]) <= 100*(1 - leaving[a, s, p]);\n",
    "\n",
    "    subject to notTooEarlyConstraint{a in A, s in S, p in P}:\n",
    "        leaving[a, s, p]*(flightTime[s, a] - 4 - travelTime[a]) - p <= 100*(1 - leaving[a, s, p]);\n",
    "\n",
    "    subject to capacityConstraint{a in A, p in P}:\n",
    "        sum{s in S} leaving[a, s, p] <= sum{c in C} numCars[a, p, c] * capacity[c];\n",
    "\n",
    "    subject to onlyOneActiveY{s in S}:\n",
    "        sum{a in A, p in P} leaving[a, s, p] = 1;\n",
    "\n",
    "    subject to defineDepartureTime{a in A, s in S}:\n",
    "        departureTime[a, s] = sum{p in P} leaving[a, s, p] * p;\n",
    "\n",
    "\"\"\")"
   ]
  },
  {
   "cell_type": "code",
   "execution_count": 118,
   "metadata": {},
   "outputs": [],
   "source": [
    "# reset index on ez_rideshares to start at 0\n",
    "ez_rideshares.reset_index(drop=True, inplace=True)"
   ]
  },
  {
   "cell_type": "code",
   "execution_count": 119,
   "metadata": {},
   "outputs": [],
   "source": [
    "# set flight time data equal to Flight Times form ez_rideshares\n",
    "# format: {(ez_rideshares['Name'][i], 'ONT') : ez_rideshares['Flight times'][i]}\n",
    "\n",
    "raw_flight_time_data = {}\n",
    "for i in range(len(ez_rideshares)):\n",
    "    raw_flight_time_data[(ez_rideshares['Name'][i], 'ONT')] = ez_rideshares['Flight times'][i]"
   ]
  },
  {
   "cell_type": "code",
   "execution_count": 120,
   "metadata": {},
   "outputs": [],
   "source": [
    "flight_time_data = {}\n",
    "for s in ez_rideshares['Name']:\n",
    "    for j in airports:\n",
    "        if (s, j) in raw_flight_time_data:\n",
    "            flight_time_data[(s, j)] = raw_flight_time_data[(s, j)]\n",
    "        else:\n",
    "            flight_time_data[(s, j)] = 0"
   ]
  },
  {
   "cell_type": "code",
   "execution_count": 121,
   "metadata": {},
   "outputs": [],
   "source": [
    "# read ez_rideshares into ampl2\n",
    "ampl.set['A'] = airports\n",
    "ampl.set['S'] = ez_rideshares['Name']\n",
    "ampl.set['C'] = car_types\n",
    "\n",
    "ampl.getParameter(\"cost\").setValues(time_indexed_cost_data)\n",
    "ampl.getParameter(\"capacity\").setValues(capacity_data)\n",
    "ampl.getParameter(\"travelTime\").setValues(travel_time_data)\n",
    "ampl.getParameter(\"flightTime\").setValues(flight_time_data)\n"
   ]
  },
  {
   "cell_type": "code",
   "execution_count": 122,
   "metadata": {},
   "outputs": [
    {
     "name": "stdout",
     "output_type": "stream",
     "text": [
      "Gurobi 11.0.3:Gurobi 11.0.3: optimal solution; objective 340.2\n",
      "310 simplex iterations\n",
      "1 branching node\n"
     ]
    }
   ],
   "source": [
    "# run the model\n",
    "ampl.solve(solver='gurobi')"
   ]
  },
  {
   "cell_type": "code",
   "execution_count": 123,
   "metadata": {},
   "outputs": [
    {
     "data": {
      "text/plain": [
       "{'Nithya Yeluri': ('ONT', 2.5),\n",
       " 'Nina Jobanputra': ('ONT', 9.5),\n",
       " 'Aanya Pratapneni ': ('ONT', 9.5),\n",
       " 'Will Sedo': ('ONT', 9.5),\n",
       " 'Marcella Todd': ('ONT', 11),\n",
       " 'Kaanthi Pandhigunta': ('ONT', 11),\n",
       " 'Cevi Bainton': ('ONT', 11),\n",
       " 'Ally Dye': ('ONT', 13.5),\n",
       " 'Maya Maranto': ('ONT', 13.5),\n",
       " 'Alec Vercruysse': ('ONT', 13.5),\n",
       " 'Rebecca Preis': ('ONT', 16),\n",
       " 'Susan Li': ('ONT', 16),\n",
       " 'Tanvi Krishnan ': ('ONT', 18),\n",
       " 'Jennifer Li': ('ONT', 16),\n",
       " 'Allison Marten': ('ONT', 16),\n",
       " 'Aldrin Feliciano': ('ONT', 18),\n",
       " 'Julianna Schalkwyk': ('ONT', 21),\n",
       " 'Charles Weismann': ('ONT', 2.5),\n",
       " 'Katrina Nguyen': ('ONT', 2.5),\n",
       " 'Bennet Matazzoni': ('ONT', 11),\n",
       " 'Thaxter Shaw': ('ONT', 18),\n",
       " 'Alicia Krasner': ('ONT', 9.5),\n",
       " 'Laura Vairus': ('ONT', 13.5),\n",
       " 'Ashley Kim': ('ONT', 18)}"
      ]
     },
     "execution_count": 123,
     "metadata": {},
     "output_type": "execute_result"
    }
   ],
   "source": [
    "# display the results\n",
    "student_airport_times = {}\n",
    "for student in ez_rideshares['Name']:\n",
    "    for a in airports:\n",
    "        x = ampl.getValue(f'departureTime[\"{a}\", \"{student}\"]')\n",
    "        if x != 0:\n",
    "            student_airport_times[student] = (a, x)\n",
    "student_airport_times"
   ]
  },
  {
   "cell_type": "code",
   "execution_count": 124,
   "metadata": {},
   "outputs": [
    {
     "data": {
      "text/plain": [
       "340.2"
      ]
     },
     "execution_count": 124,
     "metadata": {},
     "output_type": "execute_result"
    }
   ],
   "source": [
    "ampl.getValue('objective')"
   ]
  },
  {
   "cell_type": "code",
   "execution_count": 125,
   "metadata": {},
   "outputs": [
    {
     "name": "stdout",
     "output_type": "stream",
     "text": [
      "Time 2.5 has 1 UberX car(s) to ONT\n",
      "Time 9.5 has 1 UberX car(s) to ONT\n",
      "Time 11.0 has 1 UberX car(s) to ONT\n",
      "Time 13.5 has 1 UberX car(s) to ONT\n",
      "Time 16.0 has 1 UberX car(s) to ONT\n",
      "Time 18.0 has 1 UberX car(s) to ONT\n",
      "Time 21.0 has 1 UberX car(s) to ONT\n"
     ]
    }
   ],
   "source": [
    "for a in airports:\n",
    "    for i in range(1, 49):\n",
    "        for car in car_types:\n",
    "            numCars = ampl.getValue(f\"numCars['{a}', {i/2}, '{car}']\")\n",
    "            if numCars > 0:\n",
    "                print(f'Time {i/2} has {numCars} {car} car(s) to {a}')"
   ]
  }
 ],
 "metadata": {
  "kernelspec": {
   "display_name": "case-study-2",
   "language": "python",
   "name": "python3"
  },
  "language_info": {
   "codemirror_mode": {
    "name": "ipython",
    "version": 3
   },
   "file_extension": ".py",
   "mimetype": "text/x-python",
   "name": "python",
   "nbconvert_exporter": "python",
   "pygments_lexer": "ipython3",
   "version": "3.12.5"
  }
 },
 "nbformat": 4,
 "nbformat_minor": 2
}
