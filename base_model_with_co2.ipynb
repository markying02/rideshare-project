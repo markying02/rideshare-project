{
 "cells": [
  {
   "cell_type": "markdown",
   "metadata": {},
   "source": [
    "### Model 1.5: account for different traffic and pricing depending on time of day"
   ]
  },
  {
   "cell_type": "code",
   "execution_count": 53,
   "metadata": {},
   "outputs": [],
   "source": [
    "from amplpy import AMPL\n",
    "import pandas as pd"
   ]
  },
  {
   "cell_type": "code",
   "execution_count": 54,
   "metadata": {},
   "outputs": [],
   "source": [
    "rideshares = pd.read_csv('./rideshare_tg22.csv')\n",
    "airports = ['LAX', 'ONT', 'SNA', 'BUR']\n",
    "car_types = ['UberX', 'UberXL', 'Uber Green']"
   ]
  },
  {
   "cell_type": "code",
   "execution_count": 55,
   "metadata": {},
   "outputs": [],
   "source": [
    "ez_rideshares = rideshares#[rideshares['Departure Date'] == '5/11/24']\n",
    "ez_rideshares.rename(columns={'Departure Time (Pacific Daylight Time)': 'Flight depart'}, inplace=True)"
   ]
  },
  {
   "cell_type": "code",
   "execution_count": 56,
   "metadata": {},
   "outputs": [],
   "source": [
    "cost_data = {\n",
    "    ('LAX', 'UberX'): 90, ('LAX', 'UberXL'): 120, ('LAX', 'Uber Green'): 91,\n",
    "    ('ONT', 'UberX'): 30, ('ONT', 'UberXL'): 40, ('ONT', 'Uber Green'): 31,\n",
    "    ('SNA', 'UberX'): 90, ('SNA', 'UberXL'): 120, ('SNA', 'Uber Green'): 91,\n",
    "    ('BUR', 'UberX'): 90, ('BUR', 'UberXL'): 120, ('BUR', 'Uber Green'): 91\n",
    "}"
   ]
  },
  {
   "cell_type": "code",
   "execution_count": 57,
   "metadata": {},
   "outputs": [],
   "source": [
    "capacity_data = {\n",
    "    'UberX': 4,\n",
    "    'UberXL': 6,\n",
    "    'Uber Green': 4\n",
    "}"
   ]
  },
  {
   "cell_type": "code",
   "execution_count": 58,
   "metadata": {},
   "outputs": [],
   "source": [
    "emissions_data = {\n",
    "    'UberX': .347*1.69,\n",
    "    'UberXL': 1.2*.347*1.69,\n",
    "    'Uber Green': .45*.347*1.69\n",
    "}\n",
    "# kg CO2 per passenger mile\n",
    "# UberX: https://www.uber.com/us/en/about/reports/sustainability-report/\n",
    "# UberXL multiplier: https://www.greencarreports.com/news/1143316_versus-cars-suvs-emit-about-20-more-co2-ev-or-not\n",
    "# Uber Green multiplier: https://www.uber.com/us/en/ride/ubergreen/\n",
    "# 1.69 multiplier: https://fortune.com/2024/03/12/uber-carbon-dioxide-emissions-co2-savings-electric-hybrid-cars/"
   ]
  },
  {
   "cell_type": "code",
   "execution_count": 59,
   "metadata": {},
   "outputs": [],
   "source": [
    "travel_time_data = {\n",
    "    'LAX': 1.5,\n",
    "    'ONT': 0.5,\n",
    "    'SNA': 1.5,\n",
    "    'BUR': 1.5\n",
    "}"
   ]
  },
  {
   "cell_type": "code",
   "execution_count": 60,
   "metadata": {},
   "outputs": [],
   "source": [
    "trip_length_data = {\n",
    "    'LAX': 50.4,\n",
    "    'ONT': 9.1,\n",
    "    'SNA': 38.3,\n",
    "    'BUR': 41.0\n",
    "}"
   ]
  },
  {
   "cell_type": "code",
   "execution_count": 61,
   "metadata": {},
   "outputs": [],
   "source": [
    "ez_rideshares['Flight depart'] = pd.to_datetime(ez_rideshares['Flight depart'], format='%H:%M')\n",
    "ez_rideshares['Flight times'] = ez_rideshares['Flight depart'].dt.hour + 0.5 * (ez_rideshares['Flight depart'].dt.minute//30)"
   ]
  },
  {
   "cell_type": "code",
   "execution_count": 70,
   "metadata": {},
   "outputs": [],
   "source": [
    "ampl = AMPL()\n",
    "ampl.eval(r\"\"\"\n",
    "    set A;\n",
    "    set S;\n",
    "    set P = 0.25..24 by 0.25;  # time of arrival to airport\n",
    "    set C;\n",
    "\n",
    "    param cost{A, C};\n",
    "    param capacity{C};\n",
    "    param travelTime{A};\n",
    "    param flightTime{S, A};\n",
    "    param emissions{C};\n",
    "    param milesTo{A};\n",
    "\n",
    "    var numCars{A, P, C} >= 0 integer;  # x\n",
    "    var leaving{A, S, P} binary;  # 1 if student s leaves for airport a at time p, else 0\n",
    "    var departureTime{A, S};\n",
    "    var totalEmissions;\n",
    "    var tripCost;\n",
    "\n",
    "    minimize objective: tripCost + 0.185*totalEmissions; # co2 cost: https://www.nature.com/articles/s41586-022-05224-9\n",
    "          \n",
    "    subject to calculateCost:\n",
    "        tripCost = sum{a in A, p in P, c in C} numCars[a, p, c]*cost[a, c];\n",
    "          \n",
    "    subject to calculateEmissions:\n",
    "        totalEmissions = sum{a in A, p in P, c in C} numCars[a, p, c] * emissions[c] * milesTo[a];\n",
    "\n",
    "    subject to notTooLateConstraint{a in A, s in S, p in P}:\n",
    "        p - leaving[a, s, p]*(flightTime[s, a] - 2 - travelTime[a]) <= 100*(1 - leaving[a, s, p]);\n",
    "\n",
    "    subject to notTooEarlyConstraint{a in A, s in S, p in P}:\n",
    "        leaving[a, s, p]*(flightTime[s, a] - 4 - travelTime[a]) - p <= 100*(1 - leaving[a, s, p]);\n",
    "\n",
    "    subject to capacityConstraint{a in A, p in P}:\n",
    "        sum{s in S} leaving[a, s, p] <= sum{c in C} numCars[a, p, c] * capacity[c];\n",
    "\n",
    "    subject to onlyOneActiveY{s in S}:\n",
    "        sum{a in A, p in P} leaving[a, s, p] = 1;\n",
    "\n",
    "    subject to defineDepartureTime{a in A, s in S}:\n",
    "        departureTime[a, s] = sum{p in P} leaving[a, s, p] * p;\n",
    "\n",
    "\"\"\")"
   ]
  },
  {
   "cell_type": "code",
   "execution_count": 63,
   "metadata": {},
   "outputs": [],
   "source": [
    "# reset index on ez_rideshares to start at 0\n",
    "ez_rideshares.reset_index(drop=True, inplace=True)"
   ]
  },
  {
   "cell_type": "code",
   "execution_count": 64,
   "metadata": {},
   "outputs": [],
   "source": [
    "# set flight time data equal to Flight Times form ez_rideshares\n",
    "# format: {(ez_rideshares['Name'][i], 'ONT') : ez_rideshares['Flight times'][i]}\n",
    "\n",
    "raw_flight_time_data = {}\n",
    "for i in range(len(ez_rideshares)):\n",
    "    raw_flight_time_data[(ez_rideshares['Name'][i], ez_rideshares['Airport'][i])] = ez_rideshares['Flight times'][i]"
   ]
  },
  {
   "cell_type": "code",
   "execution_count": 65,
   "metadata": {},
   "outputs": [],
   "source": [
    "flight_time_data = {}\n",
    "for s in ez_rideshares['Name']:\n",
    "    for j in airports:\n",
    "        if (s, j) in raw_flight_time_data:\n",
    "            flight_time_data[(s, j)] = raw_flight_time_data[(s, j)]\n",
    "        else:\n",
    "            flight_time_data[(s, j)] = 0"
   ]
  },
  {
   "cell_type": "code",
   "execution_count": 72,
   "metadata": {},
   "outputs": [],
   "source": [
    "# read ez_rideshares into ampl2\n",
    "ampl.set['A'] = airports\n",
    "ampl.set['S'] = ez_rideshares['Name']\n",
    "ampl.set['C'] = car_types\n",
    "\n",
    "ampl.getParameter(\"cost\").setValues(cost_data)\n",
    "ampl.getParameter(\"capacity\").setValues(capacity_data)\n",
    "ampl.getParameter(\"travelTime\").setValues(travel_time_data)\n",
    "ampl.getParameter(\"flightTime\").setValues(flight_time_data)\n",
    "ampl.getParameter(\"emissions\").setValues(emissions_data)\n",
    "ampl.getParameter('milesTo').setValues(trip_length_data)\n"
   ]
  },
  {
   "cell_type": "code",
   "execution_count": 73,
   "metadata": {},
   "outputs": [
    {
     "name": "stdout",
     "output_type": "stream",
     "text": [
      "Gurobi 11.0.3:Gurobi 11.0.3: optimal solution; objective 569.3724268\n",
      "190 simplex iterations\n",
      "1 branching node\n",
      "absmipgap=1.13687e-13, relmipgap=0\n"
     ]
    }
   ],
   "source": [
    "# run the model\n",
    "ampl.solve(solver='gurobi')"
   ]
  },
  {
   "cell_type": "code",
   "execution_count": 74,
   "metadata": {},
   "outputs": [
    {
     "data": {
      "text/plain": [
       "{'Nithya Yeluri': ('ONT', 2.5),\n",
       " 'Nina Jobanputra': ('ONT', 9.5),\n",
       " 'Aanya Pratapneni ': ('ONT', 9.5),\n",
       " 'Will Sedo': ('ONT', 9.5),\n",
       " 'Marcella Todd': ('ONT', 11.5),\n",
       " 'Kaanthi Pandhigunta': ('ONT', 11.5),\n",
       " 'Cevi Bainton': ('ONT', 11.5),\n",
       " 'Ally Dye': ('ONT', 11.5),\n",
       " 'Maya Maranto': ('ONT', 15),\n",
       " 'Alec Vercruysse': ('ONT', 15),\n",
       " 'Rebecca Preis': ('ONT', 15),\n",
       " 'Susan Li': ('ONT', 15),\n",
       " 'Tanvi Krishnan ': ('ONT', 16.5),\n",
       " 'Jennifer Li': ('ONT', 16.5),\n",
       " 'Allison Marten': ('ONT', 16.5),\n",
       " 'Aldrin Feliciano': ('ONT', 16.5),\n",
       " 'Julianna Schalkwyk': ('ONT', 19),\n",
       " 'Charles Weismann': ('ONT', 2.5),\n",
       " 'Katrina Nguyen': ('ONT', 2.5),\n",
       " 'Bennet Matazzoni': ('ONT', 11.5),\n",
       " 'Thaxter Shaw': ('LAX', 17),\n",
       " 'Alicia Krasner': ('LAX', 7.5),\n",
       " 'Laura Vairus': ('LAX', 12),\n",
       " 'Ashley Kim': ('SNA', 15.5)}"
      ]
     },
     "execution_count": 74,
     "metadata": {},
     "output_type": "execute_result"
    }
   ],
   "source": [
    "# display the results\n",
    "student_airport_times = {}\n",
    "for student in ez_rideshares['Name']:\n",
    "    for a in airports:\n",
    "        x = ampl.getValue(f'departureTime[\"{a}\", \"{student}\"]')\n",
    "        if x != 0:\n",
    "            student_airport_times[student] = (a, x)\n",
    "student_airport_times"
   ]
  },
  {
   "cell_type": "code",
   "execution_count": 75,
   "metadata": {},
   "outputs": [
    {
     "name": "stdout",
     "output_type": "stream",
     "text": [
      "Time 2.5 has 1 UberX car(s) to ONT\n",
      "Time 7.5 has 1 Uber Green car(s) to LAX\n",
      "Time 9.5 has 1 UberX car(s) to ONT\n",
      "Time 11.5 has 1 UberXL car(s) to ONT\n",
      "Time 12.0 has 1 Uber Green car(s) to LAX\n",
      "Time 15.0 has 1 UberX car(s) to ONT\n",
      "Time 15.5 has 1 Uber Green car(s) to SNA\n",
      "Time 16.5 has 1 UberX car(s) to ONT\n",
      "Time 17.0 has 1 Uber Green car(s) to LAX\n",
      "Time 19.0 has 1 UberX car(s) to ONT\n"
     ]
    }
   ],
   "source": [
    "for i in range(1, 49):\n",
    "    for a in airports:\n",
    "        for car in car_types:\n",
    "            numCars = ampl.getValue(f\"numCars['{a}', {i/2}, '{car}']\")\n",
    "            if numCars > 0:\n",
    "                print(f'Time {i/2} has {numCars} {car} car(s) to {a}')"
   ]
  }
 ],
 "metadata": {
  "kernelspec": {
   "display_name": ".venv",
   "language": "python",
   "name": "python3"
  },
  "language_info": {
   "codemirror_mode": {
    "name": "ipython",
    "version": 3
   },
   "file_extension": ".py",
   "mimetype": "text/x-python",
   "name": "python",
   "nbconvert_exporter": "python",
   "pygments_lexer": "ipython3",
   "version": "3.10.11"
  }
 },
 "nbformat": 4,
 "nbformat_minor": 2
}
